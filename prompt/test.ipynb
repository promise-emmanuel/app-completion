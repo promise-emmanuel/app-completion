{
 "cells": [
  {
   "cell_type": "markdown",
   "metadata": {},
   "source": [
    "### Summarization App"
   ]
  },
  {
   "cell_type": "markdown",
   "metadata": {},
   "source": [
    "### Summarization App"
   ]
  },
  {
   "cell_type": "code",
   "execution_count": 1,
   "metadata": {},
   "outputs": [],
   "source": [
    "from openai import OpenAI\n",
    "import dotenv, os"
   ]
  },
  {
   "cell_type": "code",
   "execution_count": 2,
   "metadata": {},
   "outputs": [],
   "source": [
    "dotenv.load_dotenv\n",
    "client = OpenAI()\n",
    "\n",
    "model = os.environ['MODEL']"
   ]
  },
  {
   "cell_type": "code",
   "execution_count": 3,
   "metadata": {},
   "outputs": [],
   "source": [
    "text = \"\"\"\n",
    "In today's fast-paced world, mobile applications have become an essential part of daily life. One key feature that is often overlooked is app summarization. This process involves generating concise, meaningful summaries of app content, enabling users to quickly understand the app’s purpose and functionality without sifting through excessive information. App summarization plays a crucial role in improving user experience, saving time, and enhancing productivity.\n",
    "\n",
    "An app summarization works by analyzing the key elements of an app's interface, content, and features, and then generating a brief but comprehensive overview. The goal is to provide users with a snapshot of what the app offers, its key functionalities, and how it can benefit the user. It eliminates the need for users to explore the app in-depth before understanding its core purpose. Whether it's a complex social media platform, a fitness tracking app, or a productivity tool, summarization helps highlight the app’s unique value proposition in a digestible format.\n",
    "\n",
    "One of the main advantages of app summarization is its ability to help users make quick decisions about whether an app suits their needs. With so many options available in app stores, users are often overwhelmed by choices. Summarizing the app’s features and offering a preview of what to expect can assist in reducing the decision-making time and prevent unnecessary downloads. Additionally, app summarization can also help developers and marketers present their apps in a clearer and more attractive manner. A well-crafted summary can catch the attention of potential users, increase app visibility, and drive downloads.\n",
    "\n",
    "Moreover, app summarization is particularly useful in apps that provide a vast amount of content, such as news aggregators or e-learning platforms. Summarizing large volumes of data can provide a quick overview of the most important information, helping users focus on what matters most without being overwhelmed by unnecessary details. This functionality enhances user engagement by providing relevant information quickly, increasing satisfaction and retention.\n",
    "\n",
    "In the age of information overload, the ability to summarize an app's core features in a concise and clear way is more important than ever. App summarization technology, especially when integrated with AI, can significantly streamline the user experience, helping individuals make more informed decisions and interact more efficiently with their apps. The integration of such summarization tools can enhance user satisfaction and improve overall app usability.\n",
    "\"\"\""
   ]
  },
  {
   "cell_type": "code",
   "execution_count": 4,
   "metadata": {},
   "outputs": [],
   "source": [
    "prompt = f\"\"\"\n",
    "Summarize the following text by highlighting the key points and providing a concise overview. Focus on the main ideas, purpose, and significant details while excluding unnecessary information.\n",
    "Here is the text: {text}\n",
    "\"\"\" \n"
   ]
  },
  {
   "cell_type": "code",
   "execution_count": 5,
   "metadata": {},
   "outputs": [],
   "source": [
    "messages = [{\"role\":\"user\", \"content\":prompt}]\n",
    "completion = client.chat.completions.create(model=model, messages=messages)"
   ]
  },
  {
   "cell_type": "code",
   "execution_count": 6,
   "metadata": {},
   "outputs": [
    {
     "name": "stdout",
     "output_type": "stream",
     "text": [
      "**Overview of App Summarization**\n",
      "\n",
      "In the modern mobile landscape, app summarization has emerged as a vital feature that enhances user experience by providing concise summaries of an app's content. This process allows users to quickly grasp an app's purpose and functionalities without having to navigate through excessive information.\n",
      "\n",
      "**Key Points:**\n",
      "\n",
      "1. **Purpose of App Summarization**: It aims to deliver brief, meaningful overviews of app features, helping users understand the core functionality and benefits quickly.\n",
      "\n",
      "2. **Functionality**: By analyzing an app's interface and content, summarization creates an accessible snapshot of what an app offers.\n",
      "\n",
      "3. **Benefits for Users**: It helps users make informed and prompt decisions about app downloads amidst a plethora of choices, reducing confusion and saving time.\n",
      "\n",
      "4. **Advantages for Developers and Marketers**: A compelling summary can enhance app visibility and appeal, potentially increasing downloads.\n",
      "\n",
      "5. **Enhanced Engagement**: For content-rich apps, summarization aids in distilling large volumes of information, allowing users to focus on key details and improving overall engagement.\n",
      "\n",
      "6. **Integration of Technology**: The incorporation of AI in app summarization can streamline the user experience, improve decision-making, and enhance app usability and satisfaction.\n",
      "\n",
      "In summary, app summarization is a critical tool in today's app marketplace that benefits users, developers, and marketers alike by simplifying information access and improving overall experiences with mobile applications.\n"
     ]
    }
   ],
   "source": [
    "print(completion.choices[0].message.content)"
   ]
  },
  {
   "cell_type": "code",
   "execution_count": null,
   "metadata": {},
   "outputs": [],
   "source": []
  }
 ],
 "metadata": {
  "kernelspec": {
   "display_name": ".venv",
   "language": "python",
   "name": "python3"
  },
  "language_info": {
   "codemirror_mode": {
    "name": "ipython",
    "version": 3
   },
   "file_extension": ".py",
   "mimetype": "text/x-python",
   "name": "python",
   "nbconvert_exporter": "python",
   "pygments_lexer": "ipython3",
   "version": "3.12.3"
  }
 },
 "nbformat": 4,
 "nbformat_minor": 2
}
